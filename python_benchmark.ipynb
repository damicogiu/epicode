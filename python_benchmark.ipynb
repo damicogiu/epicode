{
 "cells": [
  {
   "cell_type": "code",
   "execution_count": null,
   "id": "5d779718-d567-46dd-8ce8-1e0b31cdcf77",
   "metadata": {},
   "outputs": [],
   "source": [
    "\"\"\"\n",
    "Analisi diffusione COVID-19 nel mondo\n",
    "\n",
    "Il committente richiede di avere un report su casi e vaccinazioni in diverse aree del mondo; a tal fine, richiede di utilizzare il dataset,\n",
    "curato da Our World in Data, all'indirizzo https://github.com/owid/covid-19-data/tree/master/public/data; alla voce \" Download\n",
    "our complete COVID-19 dataset\" scaricare il dataset in formato CSV oppure in formato JSON.\n",
    "\n",
    "• Si richiede di verificare le dimensioni del dataset e le diciture presenti nell'intestazione.\n",
    "\n",
    "• Si chiede poi per ogni continente di trovare il numero di casi totali avvenuti in quello stesso continente; si chiede di non\n",
    "  considerare eventuali locazioni che nel dataset non appartengono ad alcun continente.\n",
    "  \n",
    "• Sempre riguardo i casi di COVID totali, si chiede di sviluppare una funzione che prenda in input il dataset e due nomi di\n",
    "  continenti, e che ne confronti i seguenti relativi descrittori statistici: valori minimo e massimo, media, e percentuale rispetto al\n",
    "  numero dei casi totali nel mondo (in questo caso calcolati anche sulle locazioni senza indicazione di continente).\n",
    "  \n",
    "• Si chiede poi di effettuare lo stesso tipo di analisi – anche in questo caso sviluppando una funzione ad hoc – per il numero di\n",
    "  vaccinazioni totali per ogni continente.\n",
    "  \n",
    "• Alla fine, basandosi sui calcoli fatti, il committente chiede di stilare un breve (tre o quattro righe) paragrafo testuale riassuntivo\n",
    "  sulle statistiche di casi e vaccinazioni, che si concentri solo sulle differenze esistenti tra Europa, Sud America e Oceania.\n",
    "  \n",
    "Per effettuare le analisi si potranno usare, a scelta, strumenti come funzioni e strutture dati built-in quali open(), liste, dizionari;\n",
    "moduli built-in quali csv o json; moduli esterni quali Pandas e i relativi metodi e tipi di dato.\n",
    "\"\"\""
   ]
  },
  {
   "cell_type": "code",
   "execution_count": 1,
   "id": "2f0d4077-9736-40ec-8ecb-f80409428093",
   "metadata": {},
   "outputs": [],
   "source": [
    "#importiamo pandas e il dataset\n",
    "import pandas as pd\n",
    "df = pd.read_csv(\"https://covid.ourworldindata.org/data/owid-covid-data.csv\", low_memory=False)\n",
    "# la dicitura low_memory è stata trovata da google, senza la quale l'importazione del dataset risulta impossibile\n",
    "#a quanto pare non essendo python in grado di \"capire ed assegnare\" un tipo ad ogni colonna del dataset dà errore"
   ]
  },
  {
   "cell_type": "code",
   "execution_count": 2,
   "id": "8320684c-3b2f-4221-8355-6ad07e552da5",
   "metadata": {
    "tags": []
   },
   "outputs": [
    {
     "name": "stdout",
     "output_type": "stream",
     "text": [
      "Esaminiamo il dataset: \n",
      "<class 'pandas.core.frame.DataFrame'>\n",
      "RangeIndex: 311581 entries, 0 to 311580\n",
      "Data columns (total 67 columns):\n",
      " #   Column                                      Non-Null Count   Dtype  \n",
      "---  ------                                      --------------   -----  \n",
      " 0   iso_code                                    311581 non-null  object \n",
      " 1   continent                                   296745 non-null  object \n",
      " 2   location                                    311581 non-null  object \n",
      " 3   date                                        311581 non-null  object \n",
      " 4   total_cases                                 275335 non-null  float64\n",
      " 5   new_cases                                   302655 non-null  float64\n",
      " 6   new_cases_smoothed                          301391 non-null  float64\n",
      " 7   total_deaths                                254635 non-null  float64\n",
      " 8   new_deaths                                  302735 non-null  float64\n",
      " 9   new_deaths_smoothed                         301505 non-null  float64\n",
      " 10  total_cases_per_million                     275335 non-null  float64\n",
      " 11  new_cases_per_million                       302655 non-null  float64\n",
      " 12  new_cases_smoothed_per_million              301391 non-null  float64\n",
      " 13  total_deaths_per_million                    254635 non-null  float64\n",
      " 14  new_deaths_per_million                      302735 non-null  float64\n",
      " 15  new_deaths_smoothed_per_million             301505 non-null  float64\n",
      " 16  reproduction_rate                           184817 non-null  float64\n",
      " 17  icu_patients                                36095 non-null   float64\n",
      " 18  icu_patients_per_million                    36095 non-null   float64\n",
      " 19  hosp_patients                               36876 non-null   float64\n",
      " 20  hosp_patients_per_million                   36876 non-null   float64\n",
      " 21  weekly_icu_admissions                       9483 non-null    float64\n",
      " 22  weekly_icu_admissions_per_million           9483 non-null    float64\n",
      " 23  weekly_hosp_admissions                      21911 non-null   float64\n",
      " 24  weekly_hosp_admissions_per_million          21911 non-null   float64\n",
      " 25  total_tests                                 79387 non-null   float64\n",
      " 26  new_tests                                   75403 non-null   float64\n",
      " 27  total_tests_per_thousand                    79387 non-null   float64\n",
      " 28  new_tests_per_thousand                      75403 non-null   float64\n",
      " 29  new_tests_smoothed                          103965 non-null  float64\n",
      " 30  new_tests_smoothed_per_thousand             103965 non-null  float64\n",
      " 31  positive_rate                               95927 non-null   float64\n",
      " 32  tests_per_case                              94348 non-null   float64\n",
      " 33  tests_units                                 106788 non-null  object \n",
      " 34  total_vaccinations                          75123 non-null   float64\n",
      " 35  people_vaccinated                           71953 non-null   float64\n",
      " 36  people_fully_vaccinated                     68473 non-null   float64\n",
      " 37  total_boosters                              43740 non-null   float64\n",
      " 38  new_vaccinations                            61808 non-null   float64\n",
      " 39  new_vaccinations_smoothed                   168616 non-null  float64\n",
      " 40  total_vaccinations_per_hundred              75123 non-null   float64\n",
      " 41  people_vaccinated_per_hundred               71953 non-null   float64\n",
      " 42  people_fully_vaccinated_per_hundred         68473 non-null   float64\n",
      " 43  total_boosters_per_hundred                  43740 non-null   float64\n",
      " 44  new_vaccinations_smoothed_per_million       168616 non-null  float64\n",
      " 45  new_people_vaccinated_smoothed              168477 non-null  float64\n",
      " 46  new_people_vaccinated_smoothed_per_hundred  168477 non-null  float64\n",
      " 47  stringency_index                            197650 non-null  float64\n",
      " 48  population_density                          264383 non-null  float64\n",
      " 49  median_age                                  245886 non-null  float64\n",
      " 50  aged_65_older                               237301 non-null  float64\n",
      " 51  aged_70_older                               243418 non-null  float64\n",
      " 52  gdp_per_capita                              240990 non-null  float64\n",
      " 53  extreme_poverty                             155244 non-null  float64\n",
      " 54  cardiovasc_death_rate                       241416 non-null  float64\n",
      " 55  diabetes_prevalence                         253740 non-null  float64\n",
      " 56  female_smokers                              181130 non-null  float64\n",
      " 57  male_smokers                                178664 non-null  float64\n",
      " 58  handwashing_facilities                      118221 non-null  float64\n",
      " 59  hospital_beds_per_thousand                  213136 non-null  float64\n",
      " 60  life_expectancy                             286509 non-null  float64\n",
      " 61  human_development_index                     234038 non-null  float64\n",
      " 62  population                                  311581 non-null  float64\n",
      " 63  excess_mortality_cumulative_absolute        10669 non-null   float64\n",
      " 64  excess_mortality_cumulative                 10669 non-null   float64\n",
      " 65  excess_mortality                            10669 non-null   float64\n",
      " 66  excess_mortality_cumulative_per_million     10669 non-null   float64\n",
      "dtypes: float64(62), object(5)\n",
      "memory usage: 159.3+ MB\n"
     ]
    }
   ],
   "source": [
    "#verifichiamo le dimensioni del dataset e le intestazioni\n",
    "df.shape\n",
    "print(\"Esaminiamo il dataset: \")\n",
    "df.info()"
   ]
  },
  {
   "cell_type": "code",
   "execution_count": 3,
   "id": "feb648f3-d3f8-46ac-8b91-002b594f43d3",
   "metadata": {},
   "outputs": [],
   "source": [
    "#trasformiamo il formato della colonna \"date\" da stringa in data\n",
    "df[\"date\"] = pd.to_datetime(df.date)"
   ]
  },
  {
   "cell_type": "code",
   "execution_count": 4,
   "id": "0e454167-0c20-49fa-9b7c-de4d267a1768",
   "metadata": {
    "tags": []
   },
   "outputs": [],
   "source": [
    "#creiamo un dizionario con i nomi dei continenti\n",
    "dict_continenti ={}\n",
    "dict_continenti['Africa']='Africa'\n",
    "dict_continenti['Asia']='Asia'\n",
    "dict_continenti['Europa']='Europe'\n",
    "dict_continenti['Nord America']='North America'\n",
    "dict_continenti['Sud America']='South America'\n",
    "dict_continenti['Oceania']='Oceania'"
   ]
  },
  {
   "cell_type": "code",
   "execution_count": 5,
   "id": "66241561-ed4e-4dc1-acbd-ce5c6305e177",
   "metadata": {
    "tags": []
   },
   "outputs": [
    {
     "name": "stdout",
     "output_type": "stream",
     "text": [
      "2023-05-17 00:00:00\n"
     ]
    }
   ],
   "source": [
    "#troviamo la fine della serie storica dei dati rilevati basandoci sull'ultimo rilevamento dei casi totali\n",
    "df_filtro_casi_totali = df[df['total_cases'] >0]\n",
    "fine_serie = df_filtro_casi_totali['date'].max()\n",
    "print(fine_serie)"
   ]
  },
  {
   "cell_type": "code",
   "execution_count": 35,
   "id": "25a0f47c-26b8-4e53-a2dd-d8228fb23d0b",
   "metadata": {},
   "outputs": [
    {
     "name": "stdout",
     "output_type": "stream",
     "text": [
      "Facciamo un confronto tra due continenti.\n",
      "\n",
      "Scegli un primo continente:\n",
      "1) Africa\n",
      "2) Asia\n",
      "3) Europa\n",
      "4) Nord America\n",
      "5) Sud America\n",
      "6) Oceania\n"
     ]
    },
    {
     "name": "stdin",
     "output_type": "stream",
     "text": [
      "Scegli:  4\n"
     ]
    },
    {
     "name": "stdout",
     "output_type": "stream",
     "text": [
      "Hai scelto come primo continente: North America\n",
      "\n",
      "Ottimo!\n",
      "\n",
      "Scegli un secondo continente:\n",
      "1) Africa\n",
      "2) Asia\n",
      "3) Europa\n",
      "4) Nord America\n",
      "5) Sud America\n",
      "6) Oceania\n"
     ]
    },
    {
     "name": "stdin",
     "output_type": "stream",
     "text": [
      "Scegli:  5\n"
     ]
    },
    {
     "name": "stdout",
     "output_type": "stream",
     "text": [
      "Hai scelto come secondo continente: South America\n",
      "Ecco i dati a confronto!\n",
      "\n",
      "Morti\n",
      "\n",
      "               Min          Max         Media  % mondiale\n",
      "North America  0.0  124169393.0  5.820181e+07   16.200797\n",
      "South America  0.0   68555165.0  3.485415e+07    8.944622\n",
      "\n",
      "Vaccini\n",
      "\n",
      "               Min           Max         Media  % mondiale\n",
      "North America  0.0  1.150127e+09  5.583996e+08    8.591509\n",
      "South America  0.0  9.571099e+08  4.383949e+08    7.149662\n"
     ]
    }
   ],
   "source": [
    "#definiamo una funzione per la scelta e inserimento di un continente\n",
    "def scegli_continenti(dict_continenti, nome):\n",
    "\n",
    "\ti= 0\n",
    "\tlista_valori = []\n",
    "\tprint('Scegli un ' + nome + ':')\n",
    "\tfor k in dict_continenti:\n",
    "    \t\ti= i+ 1\n",
    "    \t\tlista_valori.extend([dict_continenti[k]])\n",
    "    \t\tprint(str(i) + ') ' + k)\n",
    "\tvalido = False\n",
    "\twhile not valido:\n",
    "            inserito = input('Scegli: ')\n",
    "            N_inserito = int(inserito) - 1\n",
    "            if N_inserito > -1 and N_inserito < len(lista_valori):\n",
    "                scelta = lista_valori[N_inserito]\n",
    "                print('Hai scelto come ' +  nome + ': ' + scelta)\n",
    "                valido = True\n",
    "            else:\n",
    "                print('Scegli un ' + nome + ' valido dalla lista')\n",
    "    \n",
    "            return scelta\n",
    "\n",
    "#azioniamo due volte la funzione creata\n",
    "print(\"Facciamo un confronto tra due continenti.\\n\")\n",
    "primo_continente = scegli_continenti(dict_continenti, 'primo continente')\n",
    "print(\"\\nOttimo!\\n\")\n",
    "secondo_continente = scegli_continenti(dict_continenti, 'secondo continente')\n",
    "import pandas as pd\n",
    "import numpy as np\n",
    "#estraiamo i dati e stampiamo il confronto tra i dati\n",
    "df_estratto = df[df[\"continent\"].isnull()]\n",
    "df_estratto = df_estratto[[\"location\",\"total_cases\",\"total_vaccinations\"]].fillna(0)\n",
    "\"\"\"df_estratto[\"total_cases\"]=df_estratto[\"total_cases\"].astype(float).astype('Int64')\n",
    "df_estratto[\"total_vaccinations\"]=df_estratto[\"total_vaccinations\"].astype(float).astype('Int64')\n",
    "df_estratto.info()\"\"\"\n",
    "def dati_morti(alfa):\n",
    "    a=df_estratto.loc[(df_estratto[\"location\"]==alfa), 'total_cases'].min()\n",
    "    b=df_estratto.loc[(df_estratto[\"location\"]==alfa), 'total_cases'].max()\n",
    "    c=df_estratto.loc[(df_estratto[\"location\"]==alfa), 'total_cases'].mean()\n",
    "    d=(100*df_estratto.loc[(df_estratto[\"location\"]==alfa), 'total_cases'].max()/df_estratto.loc[(df_estratto[\"location\"]==\"World\"), 'total_cases'].max())\n",
    "    data_morti=[a,b,c,d]\n",
    "    \n",
    "    return data_morti\n",
    "\n",
    "def dati_vaccini(alfa):\n",
    "    e=df_estratto.loc[(df_estratto[\"location\"]==alfa), 'total_vaccinations'].min()\n",
    "    f=df_estratto.loc[(df_estratto[\"location\"]==alfa), 'total_vaccinations'].max()\n",
    "    g=df_estratto.loc[(df_estratto[\"location\"]==alfa), 'total_vaccinations'].mean()\n",
    "    h=(100*df_estratto.loc[(df_estratto[\"location\"]==alfa), 'total_vaccinations'].max()/df_estratto.loc[(df_estratto[\"location\"]==\"World\"), 'total_vaccinations'].max())\n",
    "    data_vaccini=[e,f,g,h]\n",
    "    \n",
    "    return data_vaccini\n",
    "\n",
    "morti_primo = dati_morti(primo_continente)\n",
    "vaccini_primo = dati_vaccini(primo_continente)\n",
    "morti_secondo = dati_morti(secondo_continente)\n",
    "vaccini_secondo = dati_vaccini(secondo_continente)\n",
    "\n",
    "\n",
    "print(\"Ecco i dati a confronto!\\n\")\n",
    "int_colonne=[\"Min\",\"Max\", \"Media\", \"% mondiale\"]\n",
    "int_righe=[primo_continente,secondo_continente]\n",
    "print(\"Morti\\n\")\n",
    "morti=[morti_primo, morti_secondo]\n",
    "vaccini=[vaccini_primo, vaccini_secondo]\n",
    "print(pd.DataFrame(morti, int_righe, int_colonne))\n",
    "print(\"\\nVaccini\\n\")\n",
    "print(pd.DataFrame(vaccini, int_righe, int_colonne))\n"
   ]
  },
  {
   "cell_type": "code",
   "execution_count": 44,
   "id": "23b83305-99c5-4b35-b9f8-af5a9fd7cc90",
   "metadata": {},
   "outputs": [
    {
     "name": "stdout",
     "output_type": "stream",
     "text": [
      "Prendiamo ora in esame i dati di Europa, Sud America ed Oceania.\n",
      "\n",
      "Morti\n",
      "\n",
      "             Min          Max         Media  % mondiale\n",
      "Europa       0.0  249319125.0  1.018685e+08   32.529502\n",
      "Sud America  0.0   68555165.0  3.485415e+07    8.944622\n",
      "Oceania      0.0   14073969.0  4.151484e+06    1.836278\n",
      "\n",
      "Vaccini\n",
      "\n",
      "             Min           Max         Media  % mondiale\n",
      "Europa       0.0  1.383455e+09  6.871015e+08   10.334480\n",
      "Sud America  0.0  9.571099e+08  4.383949e+08    7.149662\n",
      "Oceania      0.0  8.281834e+07  3.601927e+07    0.618657\n",
      "\n",
      "Osserviamo come l'Europa, nonostante abbia avuto un livello di vaccinazioni maggiore degli altri due continenti, ha subito un numero di morti di gran lunga superiore.\n",
      "\n",
      "Questo può essere dovuto ad una serie di spiegazioni. Il rilevamento dei dati in Sud America certamente non sarà stato meticoloso come in Europa. L'Oceania ha una popolazione minore.\n",
      "L'inizio del contagio è avvenuto molto prima in Europa rispetto agli altri due.\n"
     ]
    }
   ],
   "source": [
    "print(\"Prendiamo ora in esame i dati di Europa, Sud America ed Oceania.\\n\")\n",
    "int_colonne=[\"Min\",\"Max\", \"Media\", \"% mondiale\"]\n",
    "int_righe=[\"Europa\", \"Sud America\", \"Oceania\"]\n",
    "print(\"Morti\\n\")\n",
    "morti=[dati_morti(\"Europe\"), dati_morti(\"South America\"), dati_morti(\"Oceania\")]\n",
    "vaccini=[dati_vaccini(\"Europe\"), dati_vaccini(\"South America\"), dati_vaccini(\"Oceania\")]\n",
    "print(pd.DataFrame(morti, int_righe, int_colonne))\n",
    "print(\"\\nVaccini\\n\")\n",
    "print(pd.DataFrame(vaccini, int_righe, int_colonne))\n",
    "print(\"\\nOsserviamo come l'Europa, nonostante abbia avuto un livello di vaccinazioni maggiore degli altri due continenti, ha subito un numero di morti di gran lunga superiore.\\n\")\n",
    "print(\"Questo può essere dovuto ad una serie di spiegazioni. Il rilevamento dei dati in Sud America certamente non sarà stato meticoloso come in Europa. L'Oceania ha una popolazione minore.\")\n",
    "print(\"L'inizio del contagio è avvenuto molto prima in Europa rispetto agli altri due.\")"
   ]
  },
  {
   "cell_type": "code",
   "execution_count": null,
   "id": "7a51bdf4-edeb-4df0-8103-c1bbfd5672a2",
   "metadata": {},
   "outputs": [],
   "source": [
    "#filtriamo il database solo con i dati che ci servono\n",
    "#il database è impostato in modo che dove \"continent\" è nullo corrispondono i dati aggregati dei continenti, ma anche altri tipi di aggregazioni\n",
    "#come le fasce di reddito e l'UE\n",
    "estratto = df[(df[\"date\"]==fine_serie)&(df[\"continent\"].isnull())]\n",
    "estratto = estratto[[\"location\",\"total_cases\",\"total_vaccinations\"]]\n",
    "print(estratto)\n",
    "#così facendo otteniamo i dati totali di casi e vacinazioni a fine serie 17/05/2023"
   ]
  },
  {
   "cell_type": "code",
   "execution_count": null,
   "id": "62ea0524-0d13-482c-a646-91d4064e309f",
   "metadata": {},
   "outputs": [],
   "source": []
  }
 ],
 "metadata": {
  "kernelspec": {
   "display_name": "Python 3 (ipykernel)",
   "language": "python",
   "name": "python3"
  },
  "language_info": {
   "codemirror_mode": {
    "name": "ipython",
    "version": 3
   },
   "file_extension": ".py",
   "mimetype": "text/x-python",
   "name": "python",
   "nbconvert_exporter": "python",
   "pygments_lexer": "ipython3",
   "version": "3.10.9"
  }
 },
 "nbformat": 4,
 "nbformat_minor": 5
}
